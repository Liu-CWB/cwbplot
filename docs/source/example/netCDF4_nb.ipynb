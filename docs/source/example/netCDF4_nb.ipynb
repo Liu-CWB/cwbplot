{
 "cells": [
  {
   "cell_type": "code",
   "execution_count": 31,
   "id": "0bc247db-34b3-46a8-b759-7f2bc0499191",
   "metadata": {},
   "outputs": [
    {
     "name": "stdout",
     "output_type": "stream",
     "text": [
      "['Times', 'XLAT', 'XLONG', 'LU_INDEX', 'ZNU', 'ZNW', 'ZS', 'DZS', 'VAR_SSO', 'U', 'V', 'W', 'PH', 'PHB', 'T', 'HFX_FORCE', 'LH_FORCE', 'TSK_FORCE', 'HFX_FORCE_TEND', 'LH_FORCE_TEND', 'TSK_FORCE_TEND', 'MU', 'MUB', 'NEST_POS', 'P', 'PB', 'FNM', 'FNP', 'RDNW', 'RDN', 'DNW', 'DN', 'CFN', 'CFN1', 'THIS_IS_AN_IDEAL_RUN', 'P_HYD', 'Q2', 'T2', 'TH2', 'PSFC', 'U10', 'V10', 'RDX', 'RDY', 'RESM', 'ZETATOP', 'CF1', 'CF2', 'CF3', 'ITIMESTEP', 'XTIME', 'QVAPOR', 'QCLOUD', 'QRAIN', 'QICE', 'QSNOW', 'QGRAUP', 'TSLB', 'SMOIS', 'SH2O', 'SMCREL', 'SEAICE', 'XICEM', 'SFROFF', 'UDROFF', 'IVGTYP', 'ISLTYP', 'VEGFRA', 'GRDFLX', 'ACGRDFLX', 'SNOW', 'SNOWH', 'CANWAT', 'SSTSK', 'LAI', 'VAR', 'MAPFAC_M', 'MAPFAC_U', 'MAPFAC_V', 'MAPFAC_MX', 'MAPFAC_MY', 'MAPFAC_UX', 'MAPFAC_UY', 'MAPFAC_VX', 'MF_VX_INV', 'MAPFAC_VY', 'F', 'HGT', 'TSK', 'P_TOP', 'T00', 'P00', 'TLP', 'TISO', 'TLP_STRAT', 'P_STRAT', 'RAINC', 'RAINSH', 'RAINNC', 'CLDFRA', 'SWDOWN', 'GSW', 'GLW', 'SWNORM', 'OLR', 'XLAT_U', 'XLONG_U', 'XLAT_V', 'XLONG_V', 'ALBEDO', 'ALBBCK', 'EMISS', 'NOAHRES', 'TMN', 'XLAND', 'UST', 'PBLH', 'HFX', 'QFX', 'LH', 'ACHFX', 'ACLHF', 'SNOWC', 'SR', 'SAVE_TOPO_FROM_REAL', 'LANDMASK', 'SST']\n",
      "(450, 450)\n",
      "(450, 450)\n",
      "0.0\n",
      "0.0001241928\n",
      "0.0 0.0\n"
     ]
    }
   ],
   "source": [
    "#Read netCDF file from wrf model. \n",
    "#There are two netCDF format files (wrfout1 and wrfout2).\n",
    "#The wrfpython is an useful tool for get variables in netCDF file derived from wrf model.\n",
    "import netCDF4 as nc4\n",
    "from wrf import getvar, ALL_TIMES\n",
    "#Read single file and get 2-m Temperature\n",
    "wrfout_1 = nc4.Dataset(\"wrfout1\")\n",
    "wrfout_2 = nc4.Dataset(\"wrfout2\")\n",
    "\n",
    "allvar = [ eachvar for eachvar in wrfout_1.variables ]\n",
    "print(allvar)\n",
    "\n",
    "#GET T2 use netCDF4 self and wrfpython\n",
    "wrfout_1_T2_netCDF4 = wrfout_1[\"T2\"][0]\n",
    "print(wrfout_1_T2_netCDF4.shape)\n",
    "\n",
    "wrfout_1_T2_wrfpython = getvar(wrfout_1,\"T2\")\n",
    "print(wrfout_1_T2_wrfpython.shape)\n",
    "\n",
    "diff = wrfout_1_T2_netCDF4-wrfout_1_T2_wrfpython\n",
    "print(diff.sum())\n",
    "\n",
    "#IF we want to get 10m wind speed\n",
    "wrfout_1_u10_netCDF4 = wrfout_1[\"U10\"][0]\n",
    "wrfout_1_v10_netCDF4 = wrfout_1[\"V10\"][0]\n",
    "wrfout_1_10mws_netCDF4 = (wrfout_1_u10_netCDF4**2 + wrfout_1_v10_netCDF4**2)**0.5\n",
    "\n",
    "wrfout_1_10mws_wrfpython = getvar(wrfout_1,\"wspd10\")\n",
    "\n",
    "print()\n",
    "\n",
    "\n",
    "#Read all files one time\n",
    "wrflist = [wrfout_1, wrfout_2]\n",
    "wrfout_T2 = getvar(wrflist,\"T2\", timeidx=ALL_TIMES,method=\"cat\")\n",
    "\n",
    "print((wrfout_T2[0] - wrfout_1_T2).data.sum(), (wrfout_T2[1] - wrfout_2_T2).data.sum())\n"
   ]
  },
  {
   "cell_type": "code",
   "execution_count": 4,
   "id": "7388466b-74df-42bd-b733-6eb3d9036fff",
   "metadata": {},
   "outputs": [],
   "source": [
    "#Read netCDF file from wrf model. \n",
    "#There are two netCDF format files (wrfout1 and wrfout2).\n",
    "#However, the data read read by xarray can not apply to wrfpython.\n",
    "#Thus, some variables need to be calculated can not derive.\n",
    "import xarray as xr\n",
    "\n",
    "wrfout_1 = xr.open_dataset(\"wrfout1\")\n",
    "wrfout_2 = xr.open_dataset(\"wrfout2\")\n"
   ]
  },
  {
   "cell_type": "code",
   "execution_count": 18,
   "id": "119fcd21-4c02-4cb3-bb1e-c0c100521d4a",
   "metadata": {},
   "outputs": [],
   "source": [
    "#Read netCDF file from wrf model. \n",
    "#There are two netCDF format files (wrfout1 and wrfout2).\n",
    "#However, the data read read by xarray can not apply to wrfpython.\n",
    "#Thus, some variables need to be calculated can not derive.\n",
    "from scipy.io import netcdf_file\n",
    "\n",
    "wrfout_1 = netcdf_file(\"wrfout1\",\"r\")\n",
    "wrfout_2 = netcdf_file(\"wrfout2\",\"r\")\n",
    "\n",
    "wrfout_1_T2 = getvar(wrfout_1,\"T2\")\n",
    "wrfout_1_T2\n",
    "wrfout_1.close()\n",
    "wrfout_2.close()"
   ]
  }
 ],
 "metadata": {
  "kernelspec": {
   "display_name": "Python 3 (ipykernel)",
   "language": "python",
   "name": "python3"
  },
  "language_info": {
   "codemirror_mode": {
    "name": "ipython",
    "version": 3
   },
   "file_extension": ".py",
   "mimetype": "text/x-python",
   "name": "python",
   "nbconvert_exporter": "python",
   "pygments_lexer": "ipython3",
   "version": "3.7.12"
  }
 },
 "nbformat": 4,
 "nbformat_minor": 5
}
